{
 "metadata": {
  "language_info": {
   "codemirror_mode": {
    "name": "ipython",
    "version": 3
   },
   "file_extension": ".py",
   "mimetype": "text/x-python",
   "name": "python",
   "nbconvert_exporter": "python",
   "pygments_lexer": "ipython3",
   "version": "3.8.6"
  },
  "orig_nbformat": 2,
  "kernelspec": {
   "name": "python3",
   "display_name": "Python 3.8.6 64-bit",
   "metadata": {
    "interpreter": {
     "hash": "916dbcbb3f70747c44a77c7bcd40155683ae19c65e1c03b4aa3499c5328201f1"
    }
   }
  }
 },
 "nbformat": 4,
 "nbformat_minor": 2,
 "cells": [
  {
   "source": [
    "# Q-Learning with Taxi-V3\n",
    "A Q-Learning is implemented to navigate in a city to transport passengers from point A to point B in the shortest time."
   ],
   "cell_type": "markdown",
   "metadata": {}
  },
  {
   "cell_type": "code",
   "execution_count": 1,
   "metadata": {},
   "outputs": [],
   "source": [
    "import numpy as np\n",
    "import gym\n",
    "import random"
   ]
  },
  {
   "source": [
    "## The environment\n",
    "* The environment consists on a 5x5 grid. \n",
    "* The taxi is spawned randomly in a square. \n",
    "* The passenger is spawned randomly in one of the 4 possible locations (R, B, G, Y) and whishes to go to any of the 4 possible locations too.\n",
    "\n",
    "## The reward system\n",
    "* -1 for each time step\n",
    "* +20 for succesfully deliver the passenger\n",
    "* -10 for illegal actions (pick up or put down the passenger at the outside of the destination)"
   ],
   "cell_type": "markdown",
   "metadata": {}
  },
  {
   "cell_type": "code",
   "execution_count": 2,
   "metadata": {},
   "outputs": [
    {
     "output_type": "stream",
     "name": "stdout",
     "text": [
      "+---------+\n|\u001b[34;1mR\u001b[0m: | : :\u001b[35mG\u001b[0m|\n| : | : :\u001b[43m \u001b[0m|\n| : : : : |\n| | : | : |\n|Y| : |B: |\n+---------+\n\n"
     ]
    }
   ],
   "source": [
    "env = gym.make(\"Taxi-v3\")\n",
    "env.render()"
   ]
  },
  {
   "source": [
    "## Q-Table initialization\n",
    "In order to create the table, we need to know the action-space and the observation-space to define the number of rows (states) and columns (actions)."
   ],
   "cell_type": "markdown",
   "metadata": {}
  },
  {
   "cell_type": "code",
   "execution_count": 3,
   "metadata": {},
   "outputs": [
    {
     "output_type": "stream",
     "name": "stdout",
     "text": [
      "There are 500 possible states\nThere are 6 possible actions\n"
     ]
    }
   ],
   "source": [
    "state_space = env.observation_space.n\n",
    "action_space = env.action_space.n\n",
    "\n",
    "print('There are', state_space, 'possible states')\n",
    "print('There are', action_space, 'possible actions')\n",
    "\n",
    "Q = np.zeros((state_space, action_space))"
   ]
  },
  {
   "source": [
    "## Hyperparameters"
   ],
   "cell_type": "markdown",
   "metadata": {}
  },
  {
   "cell_type": "code",
   "execution_count": 8,
   "metadata": {},
   "outputs": [],
   "source": [
    "total_episodes =  250000        # Total number of training episodes\n",
    "total_test_episodes = 100       # Total number of test episodes\n",
    "max_steps = 20                  # Max steps per episode\n",
    "\n",
    "learning_rate = 0.01            # Learning rate\n",
    "gamma =  0.99                   # Discounting rate\n",
    "\n",
    "# Exploration parameters\n",
    "max_epsilon = 1.0               # Exploration probability at the start\n",
    "min_epsilon = 0.001             # Mimnimum expploration probability\n",
    "decay_rate =  0.01              # Exponential decay rate for exploration probability"
   ]
  },
  {
   "source": [
    "## Epsilon-greedy policy\n",
    "Epsilon-greedy is a policy that handles the exploration/explotation trade-off.\n",
    "\n",
    "* With probability $1-\\epsilon$ we do explotation: the agent selects the action with highest state-action pair value.\n",
    "* With probability $\\epsilon$ we do exploration: trying ramdom action.\n",
    "\n",
    "As the training goes, the epsilon value is reduced progressively since we will need less and less exploration and more explotation"
   ],
   "cell_type": "markdown",
   "metadata": {}
  },
  {
   "cell_type": "code",
   "execution_count": 5,
   "metadata": {},
   "outputs": [],
   "source": [
    "def epsilon_greedy_policy(Q, state, epsilon):\n",
    "    if random.uniform(0,1) >  epsilon:\n",
    "        action = np.argmax(Q[state])     # Explotation\n",
    "    else:\n",
    "        action = env.action_space.sample()    # Exploration\n",
    "\n",
    "    return action"
   ]
  },
  {
   "source": [
    "## Q-Learning algorithm and training"
   ],
   "cell_type": "markdown",
   "metadata": {}
  },
  {
   "cell_type": "code",
   "execution_count": 9,
   "metadata": {},
   "outputs": [],
   "source": [
    "for episode in range(total_episodes):\n",
    "    # Reset environment\n",
    "    state = env.reset()\n",
    "    done = False\n",
    "\n",
    "    # Reduce epsilon\n",
    "    epsilon = min_epsilon + (max_epsilon - min_epsilon) * np.exp(-decay_rate*episode)\n",
    "\n",
    "    for step in range(max_steps):\n",
    "        action = epsilon_greedy_policy(Q, state, epsilon)\n",
    "\n",
    "        # Take the action and observe the outcome state and reward\n",
    "        new_state, reward, done, info = env.step(action)\n",
    "\n",
    "        # Update Q(s,a) <- Q(s,a) + lr [R(s,a) + gamma * max(Q(s',a') - Q(s,a))]\n",
    "        Q[state][action] = Q[state][action] + learning_rate * (reward + gamma * np.max(Q[new_state] - Q[state][action]))\n",
    "\n",
    "        if done:\n",
    "            break\n",
    "\n",
    "        state =  new_state"
   ]
  },
  {
   "source": [
    "## Results"
   ],
   "cell_type": "markdown",
   "metadata": {}
  },
  {
   "cell_type": "code",
   "execution_count": 10,
   "metadata": {
    "tags": [
     "outputPrepend"
    ]
   },
   "outputs": [
    {
     "output_type": "stream",
     "name": "stdout",
     "text": [
      "*************\nEPISODE 88\n+---------+\n|R: | : :G|\n| : | : : |\n| : : : : |\n|\u001b[43m \u001b[0m| : | : |\n|\u001b[35mY\u001b[0m| : |\u001b[34;1mB\u001b[0m: |\n+---------+\n\n+---------+\n|R: | : :G|\n| : | : : |\n|\u001b[43m \u001b[0m: : : : |\n| | : | : |\n|\u001b[35mY\u001b[0m| : |\u001b[34;1mB\u001b[0m: |\n+---------+\n  (North)\n+---------+\n|R: | : :G|\n| : | : : |\n| :\u001b[43m \u001b[0m: : : |\n| | : | : |\n|\u001b[35mY\u001b[0m| : |\u001b[34;1mB\u001b[0m: |\n+---------+\n  (East)\n+---------+\n|R: | : :G|\n| : | : : |\n| : :\u001b[43m \u001b[0m: : |\n| | : | : |\n|\u001b[35mY\u001b[0m| : |\u001b[34;1mB\u001b[0m: |\n+---------+\n  (East)\n+---------+\n|R: | : :G|\n| : | : : |\n| : : :\u001b[43m \u001b[0m: |\n| | : | : |\n|\u001b[35mY\u001b[0m| : |\u001b[34;1mB\u001b[0m: |\n+---------+\n  (East)\n+---------+\n|R: | : :G|\n| : | : : |\n| : : : : |\n| | : |\u001b[43m \u001b[0m: |\n|\u001b[35mY\u001b[0m| : |\u001b[34;1mB\u001b[0m: |\n+---------+\n  (South)\n+---------+\n|R: | : :G|\n| : | : : |\n| : : : : |\n| | : | : |\n|\u001b[35mY\u001b[0m| : |\u001b[34;1m\u001b[43mB\u001b[0m\u001b[0m: |\n+---------+\n  (South)\n+---------+\n|R: | : :G|\n| : | : : |\n| : : : : |\n| | : | : |\n|\u001b[35mY\u001b[0m| : |\u001b[42mB\u001b[0m: |\n+---------+\n  (Pickup)\n+---------+\n|R: | : :G|\n| : | : : |\n| : : : : |\n| | : |\u001b[42m_\u001b[0m: |\n|\u001b[35mY\u001b[0m| : |B: |\n+---------+\n  (North)\n+---------+\n|R: | : :G|\n| : | : : |\n| : : :\u001b[42m_\u001b[0m: |\n| | : | : |\n|\u001b[35mY\u001b[0m| : |B: |\n+---------+\n  (North)\n+---------+\n|R: | : :G|\n| : | : : |\n| : :\u001b[42m_\u001b[0m: : |\n| | : | : |\n|\u001b[35mY\u001b[0m| : |B: |\n+---------+\n  (West)\n+---------+\n|R: | : :G|\n| : | : : |\n| :\u001b[42m_\u001b[0m: : : |\n| | : | : |\n|\u001b[35mY\u001b[0m| : |B: |\n+---------+\n  (West)\n+---------+\n|R: | : :G|\n| : | : : |\n|\u001b[42m_\u001b[0m: : : : |\n| | : | : |\n|\u001b[35mY\u001b[0m| : |B: |\n+---------+\n  (West)\n+---------+\n|R: | : :G|\n| : | : : |\n| : : : : |\n|\u001b[42m_\u001b[0m| : | : |\n|\u001b[35mY\u001b[0m| : |B: |\n+---------+\n  (South)\n+---------+\n|R: | : :G|\n| : | : : |\n| : : : : |\n| | : | : |\n|\u001b[35m\u001b[42mY\u001b[0m\u001b[0m| : |B: |\n+---------+\n  (South)\n****************************************************\nEPISODE 89\n+---------+\n|\u001b[34;1mR\u001b[0m: | : :\u001b[35mG\u001b[0m|\n| : | : : |\n| : : : : |\n| | : | :\u001b[43m \u001b[0m|\n|Y| : |B: |\n+---------+\n\n+---------+\n|\u001b[34;1mR\u001b[0m: | : :\u001b[35mG\u001b[0m|\n| : | : : |\n| : : : : |\n| | : |\u001b[43m \u001b[0m: |\n|Y| : |B: |\n+---------+\n  (West)\n+---------+\n|\u001b[34;1mR\u001b[0m: | : :\u001b[35mG\u001b[0m|\n| : | : : |\n| : : :\u001b[43m \u001b[0m: |\n| | : | : |\n|Y| : |B: |\n+---------+\n  (North)\n+---------+\n|\u001b[34;1mR\u001b[0m: | : :\u001b[35mG\u001b[0m|\n| : | : : |\n| : :\u001b[43m \u001b[0m: : |\n| | : | : |\n|Y| : |B: |\n+---------+\n  (West)\n+---------+\n|\u001b[34;1mR\u001b[0m: | : :\u001b[35mG\u001b[0m|\n| : | : : |\n| :\u001b[43m \u001b[0m: : : |\n| | : | : |\n|Y| : |B: |\n+---------+\n  (West)\n+---------+\n|\u001b[34;1mR\u001b[0m: | : :\u001b[35mG\u001b[0m|\n| :\u001b[43m \u001b[0m| : : |\n| : : : : |\n| | : | : |\n|Y| : |B: |\n+---------+\n  (North)\n+---------+\n|\u001b[34;1mR\u001b[0m: | : :\u001b[35mG\u001b[0m|\n|\u001b[43m \u001b[0m: | : : |\n| : : : : |\n| | : | : |\n|Y| : |B: |\n+---------+\n  (West)\n+---------+\n|\u001b[34;1m\u001b[43mR\u001b[0m\u001b[0m: | : :\u001b[35mG\u001b[0m|\n| : | : : |\n| : : : : |\n| | : | : |\n|Y| : |B: |\n+---------+\n  (North)\n+---------+\n|\u001b[42mR\u001b[0m: | : :\u001b[35mG\u001b[0m|\n| : | : : |\n| : : : : |\n| | : | : |\n|Y| : |B: |\n+---------+\n  (Pickup)\n+---------+\n|R: | : :\u001b[35mG\u001b[0m|\n|\u001b[42m_\u001b[0m: | : : |\n| : : : : |\n| | : | : |\n|Y| : |B: |\n+---------+\n  (South)\n+---------+\n|R: | : :\u001b[35mG\u001b[0m|\n| : | : : |\n|\u001b[42m_\u001b[0m: : : : |\n| | : | : |\n|Y| : |B: |\n+---------+\n  (South)\n+---------+\n|R: | : :\u001b[35mG\u001b[0m|\n| : | : : |\n| :\u001b[42m_\u001b[0m: : : |\n| | : | : |\n|Y| : |B: |\n+---------+\n  (East)\n+---------+\n|R: | : :\u001b[35mG\u001b[0m|\n| : | : : |\n| : :\u001b[42m_\u001b[0m: : |\n| | : | : |\n|Y| : |B: |\n+---------+\n  (East)\n+---------+\n|R: | : :\u001b[35mG\u001b[0m|\n| : | : : |\n| : : :\u001b[42m_\u001b[0m: |\n| | : | : |\n|Y| : |B: |\n+---------+\n  (East)\n+---------+\n|R: | : :\u001b[35mG\u001b[0m|\n| : | : : |\n| : : : :\u001b[42m_\u001b[0m|\n| | : | : |\n|Y| : |B: |\n+---------+\n  (East)\n+---------+\n|R: | : :\u001b[35mG\u001b[0m|\n| : | : :\u001b[42m_\u001b[0m|\n| : : : : |\n| | : | : |\n|Y| : |B: |\n+---------+\n  (North)\n+---------+\n|R: | : :\u001b[35m\u001b[42mG\u001b[0m\u001b[0m|\n| : | : : |\n| : : : : |\n| | : | : |\n|Y| : |B: |\n+---------+\n  (North)\n****************************************************\nEPISODE 90\n+---------+\n|\u001b[35mR\u001b[0m: | : :\u001b[34;1mG\u001b[0m|\n| : | : :\u001b[43m \u001b[0m|\n| : : : : |\n| | : | : |\n|Y| : |B: |\n+---------+\n\n+---------+\n|\u001b[35mR\u001b[0m: | : :\u001b[34;1m\u001b[43mG\u001b[0m\u001b[0m|\n| : | : : |\n| : : : : |\n| | : | : |\n|Y| : |B: |\n+---------+\n  (North)\n+---------+\n|\u001b[35mR\u001b[0m: | : :\u001b[42mG\u001b[0m|\n| : | : : |\n| : : : : |\n| | : | : |\n|Y| : |B: |\n+---------+\n  (Pickup)\n+---------+\n|\u001b[35mR\u001b[0m: | :\u001b[42m_\u001b[0m:G|\n| : | : : |\n| : : : : |\n| | : | : |\n|Y| : |B: |\n+---------+\n  (West)\n+---------+\n|\u001b[35mR\u001b[0m: | : :G|\n| : | :\u001b[42m_\u001b[0m: |\n| : : : : |\n| | : | : |\n|Y| : |B: |\n+---------+\n  (South)\n+---------+\n|\u001b[35mR\u001b[0m: | : :G|\n| : | : : |\n| : : :\u001b[42m_\u001b[0m: |\n| | : | : |\n|Y| : |B: |\n+---------+\n  (South)\n+---------+\n|\u001b[35mR\u001b[0m: | : :G|\n| : | : : |\n| : :\u001b[42m_\u001b[0m: : |\n| | : | : |\n|Y| : |B: |\n+---------+\n  (West)\n+---------+\n|\u001b[35mR\u001b[0m: | : :G|\n| : | : : |\n| :\u001b[42m_\u001b[0m: : : |\n| | : | : |\n|Y| : |B: |\n+---------+\n  (West)\n+---------+\n|\u001b[35mR\u001b[0m: | : :G|\n| : | : : |\n|\u001b[42m_\u001b[0m: : : : |\n| | : | : |\n|Y| : |B: |\n+---------+\n  (West)\n+---------+\n|\u001b[35mR\u001b[0m: | : :G|\n|\u001b[42m_\u001b[0m: | : : |\n| : : : : |\n| | : | : |\n|Y| : |B: |\n+---------+\n  (North)\n+---------+\n|\u001b[35m\u001b[42mR\u001b[0m\u001b[0m: | : :G|\n| : | : : |\n| : : : : |\n| | : | : |\n|Y| : |B: |\n+---------+\n  (North)\n****************************************************\nEPISODE 91\n+---------+\n|R: | : :G|\n| : |\u001b[43m \u001b[0m: : |\n| : : : : |\n| | : | : |\n|\u001b[34;1mY\u001b[0m| : |\u001b[35mB\u001b[0m: |\n+---------+\n\n+---------+\n|R: | : :G|\n| : | : : |\n| : :\u001b[43m \u001b[0m: : |\n| | : | : |\n|\u001b[34;1mY\u001b[0m| : |\u001b[35mB\u001b[0m: |\n+---------+\n  (South)\n+---------+\n|R: | : :G|\n| : | : : |\n| :\u001b[43m \u001b[0m: : : |\n| | : | : |\n|\u001b[34;1mY\u001b[0m| : |\u001b[35mB\u001b[0m: |\n+---------+\n  (West)\n+---------+\n|R: | : :G|\n| : | : : |\n|\u001b[43m \u001b[0m: : : : |\n| | : | : |\n|\u001b[34;1mY\u001b[0m| : |\u001b[35mB\u001b[0m: |\n+---------+\n  (West)\n+---------+\n|R: | : :G|\n| : | : : |\n| : : : : |\n|\u001b[43m \u001b[0m| : | : |\n|\u001b[34;1mY\u001b[0m| : |\u001b[35mB\u001b[0m: |\n+---------+\n  (South)\n+---------+\n|R: | : :G|\n| : | : : |\n| : : : : |\n| | : | : |\n|\u001b[34;1m\u001b[43mY\u001b[0m\u001b[0m| : |\u001b[35mB\u001b[0m: |\n+---------+\n  (South)\n+---------+\n|R: | : :G|\n| : | : : |\n| : : : : |\n| | : | : |\n|\u001b[42mY\u001b[0m| : |\u001b[35mB\u001b[0m: |\n+---------+\n  (Pickup)\n+---------+\n|R: | : :G|\n| : | : : |\n| : : : : |\n|\u001b[42m_\u001b[0m| : | : |\n|Y| : |\u001b[35mB\u001b[0m: |\n+---------+\n  (North)\n+---------+\n|R: | : :G|\n| : | : : |\n|\u001b[42m_\u001b[0m: : : : |\n| | : | : |\n|Y| : |\u001b[35mB\u001b[0m: |\n+---------+\n  (North)\n+---------+\n|R: | : :G|\n| : | : : |\n| :\u001b[42m_\u001b[0m: : : |\n| | : | : |\n|Y| : |\u001b[35mB\u001b[0m: |\n+---------+\n  (East)\n+---------+\n|R: | : :G|\n| : | : : |\n| : :\u001b[42m_\u001b[0m: : |\n| | : | : |\n|Y| : |\u001b[35mB\u001b[0m: |\n+---------+\n  (East)\n+---------+\n|R: | : :G|\n| : | : : |\n| : : :\u001b[42m_\u001b[0m: |\n| | : | : |\n|Y| : |\u001b[35mB\u001b[0m: |\n+---------+\n  (East)\n+---------+\n|R: | : :G|\n| : | : : |\n| : : : : |\n| | : |\u001b[42m_\u001b[0m: |\n|Y| : |\u001b[35mB\u001b[0m: |\n+---------+\n  (South)\n+---------+\n|R: | : :G|\n| : | : : |\n| : : : : |\n| | : | : |\n|Y| : |\u001b[35m\u001b[42mB\u001b[0m\u001b[0m: |\n+---------+\n  (South)\n****************************************************\nEPISODE 92\n+---------+\n|R: | : :G|\n| : | : : |\n| : : : : |\n| | : |\u001b[43m \u001b[0m: |\n|\u001b[34;1mY\u001b[0m| : |\u001b[35mB\u001b[0m: |\n+---------+\n\n+---------+\n|R: | : :G|\n| : | : : |\n| : : :\u001b[43m \u001b[0m: |\n| | : | : |\n|\u001b[34;1mY\u001b[0m| : |\u001b[35mB\u001b[0m: |\n+---------+\n  (North)\n+---------+\n|R: | : :G|\n| : | : : |\n| : :\u001b[43m \u001b[0m: : |\n| | : | : |\n|\u001b[34;1mY\u001b[0m| : |\u001b[35mB\u001b[0m: |\n+---------+\n  (West)\n+---------+\n|R: | : :G|\n| : | : : |\n| :\u001b[43m \u001b[0m: : : |\n| | : | : |\n|\u001b[34;1mY\u001b[0m| : |\u001b[35mB\u001b[0m: |\n+---------+\n  (West)\n+---------+\n|R: | : :G|\n| : | : : |\n|\u001b[43m \u001b[0m: : : : |\n| | : | : |\n|\u001b[34;1mY\u001b[0m| : |\u001b[35mB\u001b[0m: |\n+---------+\n  (West)\n+---------+\n|R: | : :G|\n| : | : : |\n| : : : : |\n|\u001b[43m \u001b[0m| : | : |\n|\u001b[34;1mY\u001b[0m| : |\u001b[35mB\u001b[0m: |\n+---------+\n  (South)\n+---------+\n|R: | : :G|\n| : | : : |\n| : : : : |\n| | : | : |\n|\u001b[34;1m\u001b[43mY\u001b[0m\u001b[0m| : |\u001b[35mB\u001b[0m: |\n+---------+\n  (South)\n+---------+\n|R: | : :G|\n| : | : : |\n| : : : : |\n| | : | : |\n|\u001b[42mY\u001b[0m| : |\u001b[35mB\u001b[0m: |\n+---------+\n  (Pickup)\n+---------+\n|R: | : :G|\n| : | : : |\n| : : : : |\n|\u001b[42m_\u001b[0m| : | : |\n|Y| : |\u001b[35mB\u001b[0m: |\n+---------+\n  (North)\n+---------+\n|R: | : :G|\n| : | : : |\n|\u001b[42m_\u001b[0m: : : : |\n| | : | : |\n|Y| : |\u001b[35mB\u001b[0m: |\n+---------+\n  (North)\n+---------+\n|R: | : :G|\n| : | : : |\n| :\u001b[42m_\u001b[0m: : : |\n| | : | : |\n|Y| : |\u001b[35mB\u001b[0m: |\n+---------+\n  (East)\n+---------+\n|R: | : :G|\n| : | : : |\n| : :\u001b[42m_\u001b[0m: : |\n| | : | : |\n|Y| : |\u001b[35mB\u001b[0m: |\n+---------+\n  (East)\n+---------+\n|R: | : :G|\n| : | : : |\n| : : :\u001b[42m_\u001b[0m: |\n| | : | : |\n|Y| : |\u001b[35mB\u001b[0m: |\n+---------+\n  (East)\n+---------+\n|R: | : :G|\n| : | : : |\n| : : : : |\n| | : |\u001b[42m_\u001b[0m: |\n|Y| : |\u001b[35mB\u001b[0m: |\n+---------+\n  (South)\n+---------+\n|R: | : :G|\n| : | : : |\n| : : : : |\n| | : | : |\n|Y| : |\u001b[35m\u001b[42mB\u001b[0m\u001b[0m: |\n+---------+\n  (South)\n****************************************************\nEPISODE 93\n+---------+\n|R: | : :\u001b[35mG\u001b[0m|\n| : | : : |\n| : : : : |\n| | : | : |\n|Y| : |\u001b[34;1mB\u001b[0m:\u001b[43m \u001b[0m|\n+---------+\n\n+---------+\n|R: | : :\u001b[35mG\u001b[0m|\n| : | : : |\n| : : : : |\n| | : | : |\n|Y| : |\u001b[34;1m\u001b[43mB\u001b[0m\u001b[0m: |\n+---------+\n  (West)\n+---------+\n|R: | : :\u001b[35mG\u001b[0m|\n| : | : : |\n| : : : : |\n| | : | : |\n|Y| : |\u001b[42mB\u001b[0m: |\n+---------+\n  (Pickup)\n+---------+\n|R: | : :\u001b[35mG\u001b[0m|\n| : | : : |\n| : : : : |\n| | : |\u001b[42m_\u001b[0m: |\n|Y| : |B: |\n+---------+\n  (North)\n+---------+\n|R: | : :\u001b[35mG\u001b[0m|\n| : | : : |\n| : : :\u001b[42m_\u001b[0m: |\n| | : | : |\n|Y| : |B: |\n+---------+\n  (North)\n+---------+\n|R: | : :\u001b[35mG\u001b[0m|\n| : | : : |\n| : : : :\u001b[42m_\u001b[0m|\n| | : | : |\n|Y| : |B: |\n+---------+\n  (East)\n+---------+\n|R: | : :\u001b[35mG\u001b[0m|\n| : | : :\u001b[42m_\u001b[0m|\n| : : : : |\n| | : | : |\n|Y| : |B: |\n+---------+\n  (North)\n+---------+\n|R: | : :\u001b[35m\u001b[42mG\u001b[0m\u001b[0m|\n| : | : : |\n| : : : : |\n| | : | : |\n|Y| : |B: |\n+---------+\n  (North)\n****************************************************\nEPISODE 94\n+---------+\n|R: | : :\u001b[34;1mG\u001b[0m|\n| : | : : |\n| : : : : |\n| | : |\u001b[43m \u001b[0m: |\n|Y| : |\u001b[35mB\u001b[0m: |\n+---------+\n\n+---------+\n|R: | : :\u001b[34;1mG\u001b[0m|\n| : | : : |\n| : : :\u001b[43m \u001b[0m: |\n| | : | : |\n|Y| : |\u001b[35mB\u001b[0m: |\n+---------+\n  (North)\n+---------+\n|R: | : :\u001b[34;1mG\u001b[0m|\n| : | :\u001b[43m \u001b[0m: |\n| : : : : |\n| | : | : |\n|Y| : |\u001b[35mB\u001b[0m: |\n+---------+\n  (North)\n+---------+\n|R: | : :\u001b[34;1mG\u001b[0m|\n| : | : :\u001b[43m \u001b[0m|\n| : : : : |\n| | : | : |\n|Y| : |\u001b[35mB\u001b[0m: |\n+---------+\n  (East)\n+---------+\n|R: | : :\u001b[34;1m\u001b[43mG\u001b[0m\u001b[0m|\n| : | : : |\n| : : : : |\n| | : | : |\n|Y| : |\u001b[35mB\u001b[0m: |\n+---------+\n  (North)\n+---------+\n|R: | : :\u001b[42mG\u001b[0m|\n| : | : : |\n| : : : : |\n| | : | : |\n|Y| : |\u001b[35mB\u001b[0m: |\n+---------+\n  (Pickup)\n+---------+\n|R: | : :G|\n| : | : :\u001b[42m_\u001b[0m|\n| : : : : |\n| | : | : |\n|Y| : |\u001b[35mB\u001b[0m: |\n+---------+\n  (South)\n+---------+\n|R: | : :G|\n| : | :\u001b[42m_\u001b[0m: |\n| : : : : |\n| | : | : |\n|Y| : |\u001b[35mB\u001b[0m: |\n+---------+\n  (West)\n+---------+\n|R: | : :G|\n| : | : : |\n| : : :\u001b[42m_\u001b[0m: |\n| | : | : |\n|Y| : |\u001b[35mB\u001b[0m: |\n+---------+\n  (South)\n+---------+\n|R: | : :G|\n| : | : : |\n| : : : : |\n| | : |\u001b[42m_\u001b[0m: |\n|Y| : |\u001b[35mB\u001b[0m: |\n+---------+\n  (South)\n+---------+\n|R: | : :G|\n| : | : : |\n| : : : : |\n| | : | : |\n|Y| : |\u001b[35m\u001b[42mB\u001b[0m\u001b[0m: |\n+---------+\n  (South)\n****************************************************\nEPISODE 95\n+---------+\n|\u001b[35mR\u001b[0m: |\u001b[43m \u001b[0m: :G|\n| : | : : |\n| : : : : |\n| | : | : |\n|\u001b[34;1mY\u001b[0m| : |B: |\n+---------+\n\n+---------+\n|\u001b[35mR\u001b[0m: | : :G|\n| : |\u001b[43m \u001b[0m: : |\n| : : : : |\n| | : | : |\n|\u001b[34;1mY\u001b[0m| : |B: |\n+---------+\n  (South)\n+---------+\n|\u001b[35mR\u001b[0m: | : :G|\n| : | : : |\n| : :\u001b[43m \u001b[0m: : |\n| | : | : |\n|\u001b[34;1mY\u001b[0m| : |B: |\n+---------+\n  (South)\n+---------+\n|\u001b[35mR\u001b[0m: | : :G|\n| : | : : |\n| :\u001b[43m \u001b[0m: : : |\n| | : | : |\n|\u001b[34;1mY\u001b[0m| : |B: |\n+---------+\n  (West)\n+---------+\n|\u001b[35mR\u001b[0m: | : :G|\n| : | : : |\n|\u001b[43m \u001b[0m: : : : |\n| | : | : |\n|\u001b[34;1mY\u001b[0m| : |B: |\n+---------+\n  (West)\n+---------+\n|\u001b[35mR\u001b[0m: | : :G|\n| : | : : |\n| : : : : |\n|\u001b[43m \u001b[0m| : | : |\n|\u001b[34;1mY\u001b[0m| : |B: |\n+---------+\n  (South)\n+---------+\n|\u001b[35mR\u001b[0m: | : :G|\n| : | : : |\n| : : : : |\n| | : | : |\n|\u001b[34;1m\u001b[43mY\u001b[0m\u001b[0m| : |B: |\n+---------+\n  (South)\n+---------+\n|\u001b[35mR\u001b[0m: | : :G|\n| : | : : |\n| : : : : |\n| | : | : |\n|\u001b[42mY\u001b[0m| : |B: |\n+---------+\n  (Pickup)\n+---------+\n|\u001b[35mR\u001b[0m: | : :G|\n| : | : : |\n| : : : : |\n|\u001b[42m_\u001b[0m| : | : |\n|Y| : |B: |\n+---------+\n  (North)\n+---------+\n|\u001b[35mR\u001b[0m: | : :G|\n| : | : : |\n|\u001b[42m_\u001b[0m: : : : |\n| | : | : |\n|Y| : |B: |\n+---------+\n  (North)\n+---------+\n|\u001b[35mR\u001b[0m: | : :G|\n|\u001b[42m_\u001b[0m: | : : |\n| : : : : |\n| | : | : |\n|Y| : |B: |\n+---------+\n  (North)\n+---------+\n|\u001b[35m\u001b[42mR\u001b[0m\u001b[0m: | : :G|\n| : | : : |\n| : : : : |\n| | : | : |\n|Y| : |B: |\n+---------+\n  (North)\n****************************************************\nEPISODE 96\n+---------+\n|\u001b[35mR\u001b[0m: | : :\u001b[34;1mG\u001b[0m|\n| : | : : |\n| : : : : |\n| | : |\u001b[43m \u001b[0m: |\n|Y| : |B: |\n+---------+\n\n+---------+\n|\u001b[35mR\u001b[0m: | : :\u001b[34;1mG\u001b[0m|\n| : | : : |\n| : : :\u001b[43m \u001b[0m: |\n| | : | : |\n|Y| : |B: |\n+---------+\n  (North)\n+---------+\n|\u001b[35mR\u001b[0m: | : :\u001b[34;1mG\u001b[0m|\n| : | :\u001b[43m \u001b[0m: |\n| : : : : |\n| | : | : |\n|Y| : |B: |\n+---------+\n  (North)\n+---------+\n|\u001b[35mR\u001b[0m: | : :\u001b[34;1mG\u001b[0m|\n| : | : :\u001b[43m \u001b[0m|\n| : : : : |\n| | : | : |\n|Y| : |B: |\n+---------+\n  (East)\n+---------+\n|\u001b[35mR\u001b[0m: | : :\u001b[34;1m\u001b[43mG\u001b[0m\u001b[0m|\n| : | : : |\n| : : : : |\n| | : | : |\n|Y| : |B: |\n+---------+\n  (North)\n+---------+\n|\u001b[35mR\u001b[0m: | : :\u001b[42mG\u001b[0m|\n| : | : : |\n| : : : : |\n| | : | : |\n|Y| : |B: |\n+---------+\n  (Pickup)\n+---------+\n|\u001b[35mR\u001b[0m: | :\u001b[42m_\u001b[0m:G|\n| : | : : |\n| : : : : |\n| | : | : |\n|Y| : |B: |\n+---------+\n  (West)\n+---------+\n|\u001b[35mR\u001b[0m: | : :G|\n| : | :\u001b[42m_\u001b[0m: |\n| : : : : |\n| | : | : |\n|Y| : |B: |\n+---------+\n  (South)\n+---------+\n|\u001b[35mR\u001b[0m: | : :G|\n| : | : : |\n| : : :\u001b[42m_\u001b[0m: |\n| | : | : |\n|Y| : |B: |\n+---------+\n  (South)\n+---------+\n|\u001b[35mR\u001b[0m: | : :G|\n| : | : : |\n| : :\u001b[42m_\u001b[0m: : |\n| | : | : |\n|Y| : |B: |\n+---------+\n  (West)\n+---------+\n|\u001b[35mR\u001b[0m: | : :G|\n| : | : : |\n| :\u001b[42m_\u001b[0m: : : |\n| | : | : |\n|Y| : |B: |\n+---------+\n  (West)\n+---------+\n|\u001b[35mR\u001b[0m: | : :G|\n| : | : : |\n|\u001b[42m_\u001b[0m: : : : |\n| | : | : |\n|Y| : |B: |\n+---------+\n  (West)\n+---------+\n|\u001b[35mR\u001b[0m: | : :G|\n|\u001b[42m_\u001b[0m: | : : |\n| : : : : |\n| | : | : |\n|Y| : |B: |\n+---------+\n  (North)\n+---------+\n|\u001b[35m\u001b[42mR\u001b[0m\u001b[0m: | : :G|\n| : | : : |\n| : : : : |\n| | : | : |\n|Y| : |B: |\n+---------+\n  (North)\n****************************************************\nEPISODE 97\n+---------+\n|R: | : :G|\n| : | : : |\n| : : : : |\n| | : | : |\n|\u001b[34;1mY\u001b[0m| : |\u001b[35mB\u001b[0m:\u001b[43m \u001b[0m|\n+---------+\n\n+---------+\n|R: | : :G|\n| : | : : |\n| : : : : |\n| | : | : |\n|\u001b[34;1mY\u001b[0m| : |\u001b[35m\u001b[43mB\u001b[0m\u001b[0m: |\n+---------+\n  (West)\n+---------+\n|R: | : :G|\n| : | : : |\n| : : : : |\n| | : |\u001b[43m \u001b[0m: |\n|\u001b[34;1mY\u001b[0m| : |\u001b[35mB\u001b[0m: |\n+---------+\n  (North)\n+---------+\n|R: | : :G|\n| : | : : |\n| : : :\u001b[43m \u001b[0m: |\n| | : | : |\n|\u001b[34;1mY\u001b[0m| : |\u001b[35mB\u001b[0m: |\n+---------+\n  (North)\n+---------+\n|R: | : :G|\n| : | : : |\n| : :\u001b[43m \u001b[0m: : |\n| | : | : |\n|\u001b[34;1mY\u001b[0m| : |\u001b[35mB\u001b[0m: |\n+---------+\n  (West)\n+---------+\n|R: | : :G|\n| : | : : |\n| :\u001b[43m \u001b[0m: : : |\n| | : | : |\n|\u001b[34;1mY\u001b[0m| : |\u001b[35mB\u001b[0m: |\n+---------+\n  (West)\n+---------+\n|R: | : :G|\n| : | : : |\n|\u001b[43m \u001b[0m: : : : |\n| | : | : |\n|\u001b[34;1mY\u001b[0m| : |\u001b[35mB\u001b[0m: |\n+---------+\n  (West)\n+---------+\n|R: | : :G|\n| : | : : |\n| : : : : |\n|\u001b[43m \u001b[0m| : | : |\n|\u001b[34;1mY\u001b[0m| : |\u001b[35mB\u001b[0m: |\n+---------+\n  (South)\n+---------+\n|R: | : :G|\n| : | : : |\n| : : : : |\n| | : | : |\n|\u001b[34;1m\u001b[43mY\u001b[0m\u001b[0m| : |\u001b[35mB\u001b[0m: |\n+---------+\n  (South)\n+---------+\n|R: | : :G|\n| : | : : |\n| : : : : |\n| | : | : |\n|\u001b[42mY\u001b[0m| : |\u001b[35mB\u001b[0m: |\n+---------+\n  (Pickup)\n+---------+\n|R: | : :G|\n| : | : : |\n| : : : : |\n|\u001b[42m_\u001b[0m| : | : |\n|Y| : |\u001b[35mB\u001b[0m: |\n+---------+\n  (North)\n+---------+\n|R: | : :G|\n| : | : : |\n|\u001b[42m_\u001b[0m: : : : |\n| | : | : |\n|Y| : |\u001b[35mB\u001b[0m: |\n+---------+\n  (North)\n+---------+\n|R: | : :G|\n| : | : : |\n| :\u001b[42m_\u001b[0m: : : |\n| | : | : |\n|Y| : |\u001b[35mB\u001b[0m: |\n+---------+\n  (East)\n+---------+\n|R: | : :G|\n| : | : : |\n| : :\u001b[42m_\u001b[0m: : |\n| | : | : |\n|Y| : |\u001b[35mB\u001b[0m: |\n+---------+\n  (East)\n+---------+\n|R: | : :G|\n| : | : : |\n| : : :\u001b[42m_\u001b[0m: |\n| | : | : |\n|Y| : |\u001b[35mB\u001b[0m: |\n+---------+\n  (East)\n+---------+\n|R: | : :G|\n| : | : : |\n| : : : : |\n| | : |\u001b[42m_\u001b[0m: |\n|Y| : |\u001b[35mB\u001b[0m: |\n+---------+\n  (South)\n+---------+\n|R: | : :G|\n| : | : : |\n| : : : : |\n| | : | : |\n|Y| : |\u001b[35m\u001b[42mB\u001b[0m\u001b[0m: |\n+---------+\n  (South)\n****************************************************\nEPISODE 98\n+---------+\n|\u001b[34;1mR\u001b[0m: | : :G|\n| : | : :\u001b[43m \u001b[0m|\n| : : : : |\n| | : | : |\n|Y| : |\u001b[35mB\u001b[0m: |\n+---------+\n\n+---------+\n|\u001b[34;1mR\u001b[0m: | : :G|\n| : | :\u001b[43m \u001b[0m: |\n| : : : : |\n| | : | : |\n|Y| : |\u001b[35mB\u001b[0m: |\n+---------+\n  (West)\n+---------+\n|\u001b[34;1mR\u001b[0m: | : :G|\n| : | : : |\n| : : :\u001b[43m \u001b[0m: |\n| | : | : |\n|Y| : |\u001b[35mB\u001b[0m: |\n+---------+\n  (South)\n+---------+\n|\u001b[34;1mR\u001b[0m: | : :G|\n| : | : : |\n| : :\u001b[43m \u001b[0m: : |\n| | : | : |\n|Y| : |\u001b[35mB\u001b[0m: |\n+---------+\n  (West)\n+---------+\n|\u001b[34;1mR\u001b[0m: | : :G|\n| : | : : |\n| :\u001b[43m \u001b[0m: : : |\n| | : | : |\n|Y| : |\u001b[35mB\u001b[0m: |\n+---------+\n  (West)\n+---------+\n|\u001b[34;1mR\u001b[0m: | : :G|\n| :\u001b[43m \u001b[0m| : : |\n| : : : : |\n| | : | : |\n|Y| : |\u001b[35mB\u001b[0m: |\n+---------+\n  (North)\n+---------+\n|\u001b[34;1mR\u001b[0m: | : :G|\n|\u001b[43m \u001b[0m: | : : |\n| : : : : |\n| | : | : |\n|Y| : |\u001b[35mB\u001b[0m: |\n+---------+\n  (West)\n+---------+\n|\u001b[34;1m\u001b[43mR\u001b[0m\u001b[0m: | : :G|\n| : | : : |\n| : : : : |\n| | : | : |\n|Y| : |\u001b[35mB\u001b[0m: |\n+---------+\n  (North)\n+---------+\n|\u001b[42mR\u001b[0m: | : :G|\n| : | : : |\n| : : : : |\n| | : | : |\n|Y| : |\u001b[35mB\u001b[0m: |\n+---------+\n  (Pickup)\n+---------+\n|R: | : :G|\n|\u001b[42m_\u001b[0m: | : : |\n| : : : : |\n| | : | : |\n|Y| : |\u001b[35mB\u001b[0m: |\n+---------+\n  (South)\n+---------+\n|R: | : :G|\n| : | : : |\n|\u001b[42m_\u001b[0m: : : : |\n| | : | : |\n|Y| : |\u001b[35mB\u001b[0m: |\n+---------+\n  (South)\n+---------+\n|R: | : :G|\n| : | : : |\n| :\u001b[42m_\u001b[0m: : : |\n| | : | : |\n|Y| : |\u001b[35mB\u001b[0m: |\n+---------+\n  (East)\n+---------+\n|R: | : :G|\n| : | : : |\n| : :\u001b[42m_\u001b[0m: : |\n| | : | : |\n|Y| : |\u001b[35mB\u001b[0m: |\n+---------+\n  (East)\n+---------+\n|R: | : :G|\n| : | : : |\n| : : :\u001b[42m_\u001b[0m: |\n| | : | : |\n|Y| : |\u001b[35mB\u001b[0m: |\n+---------+\n  (East)\n+---------+\n|R: | : :G|\n| : | : : |\n| : : : : |\n| | : |\u001b[42m_\u001b[0m: |\n|Y| : |\u001b[35mB\u001b[0m: |\n+---------+\n  (South)\n+---------+\n|R: | : :G|\n| : | : : |\n| : : : : |\n| | : | : |\n|Y| : |\u001b[35m\u001b[42mB\u001b[0m\u001b[0m: |\n+---------+\n  (South)\n****************************************************\nEPISODE 99\n+---------+\n|\u001b[34;1mR\u001b[0m: | : :G|\n| : | : :\u001b[43m \u001b[0m|\n| : : : : |\n| | : | : |\n|Y| : |\u001b[35mB\u001b[0m: |\n+---------+\n\n+---------+\n|\u001b[34;1mR\u001b[0m: | : :G|\n| : | :\u001b[43m \u001b[0m: |\n| : : : : |\n| | : | : |\n|Y| : |\u001b[35mB\u001b[0m: |\n+---------+\n  (West)\n+---------+\n|\u001b[34;1mR\u001b[0m: | : :G|\n| : | : : |\n| : : :\u001b[43m \u001b[0m: |\n| | : | : |\n|Y| : |\u001b[35mB\u001b[0m: |\n+---------+\n  (South)\n+---------+\n|\u001b[34;1mR\u001b[0m: | : :G|\n| : | : : |\n| : :\u001b[43m \u001b[0m: : |\n| | : | : |\n|Y| : |\u001b[35mB\u001b[0m: |\n+---------+\n  (West)\n+---------+\n|\u001b[34;1mR\u001b[0m: | : :G|\n| : | : : |\n| :\u001b[43m \u001b[0m: : : |\n| | : | : |\n|Y| : |\u001b[35mB\u001b[0m: |\n+---------+\n  (West)\n+---------+\n|\u001b[34;1mR\u001b[0m: | : :G|\n| :\u001b[43m \u001b[0m| : : |\n| : : : : |\n| | : | : |\n|Y| : |\u001b[35mB\u001b[0m: |\n+---------+\n  (North)\n+---------+\n|\u001b[34;1mR\u001b[0m: | : :G|\n|\u001b[43m \u001b[0m: | : : |\n| : : : : |\n| | : | : |\n|Y| : |\u001b[35mB\u001b[0m: |\n+---------+\n  (West)\n+---------+\n|\u001b[34;1m\u001b[43mR\u001b[0m\u001b[0m: | : :G|\n| : | : : |\n| : : : : |\n| | : | : |\n|Y| : |\u001b[35mB\u001b[0m: |\n+---------+\n  (North)\n+---------+\n|\u001b[42mR\u001b[0m: | : :G|\n| : | : : |\n| : : : : |\n| | : | : |\n|Y| : |\u001b[35mB\u001b[0m: |\n+---------+\n  (Pickup)\n+---------+\n|R: | : :G|\n|\u001b[42m_\u001b[0m: | : : |\n| : : : : |\n| | : | : |\n|Y| : |\u001b[35mB\u001b[0m: |\n+---------+\n  (South)\n+---------+\n|R: | : :G|\n| : | : : |\n|\u001b[42m_\u001b[0m: : : : |\n| | : | : |\n|Y| : |\u001b[35mB\u001b[0m: |\n+---------+\n  (South)\n+---------+\n|R: | : :G|\n| : | : : |\n| :\u001b[42m_\u001b[0m: : : |\n| | : | : |\n|Y| : |\u001b[35mB\u001b[0m: |\n+---------+\n  (East)\n+---------+\n|R: | : :G|\n| : | : : |\n| : :\u001b[42m_\u001b[0m: : |\n| | : | : |\n|Y| : |\u001b[35mB\u001b[0m: |\n+---------+\n  (East)\n+---------+\n|R: | : :G|\n| : | : : |\n| : : :\u001b[42m_\u001b[0m: |\n| | : | : |\n|Y| : |\u001b[35mB\u001b[0m: |\n+---------+\n  (East)\n+---------+\n|R: | : :G|\n| : | : : |\n| : : : : |\n| | : |\u001b[42m_\u001b[0m: |\n|Y| : |\u001b[35mB\u001b[0m: |\n+---------+\n  (South)\n+---------+\n|R: | : :G|\n| : | : : |\n| : : : : |\n| | : | : |\n|Y| : |\u001b[35m\u001b[42mB\u001b[0m\u001b[0m: |\n+---------+\n  (South)\nScore over time: 7.76\n"
     ]
    }
   ],
   "source": [
    "import time\n",
    "\n",
    "rewards = []\n",
    "frames = []\n",
    "\n",
    "for episode in range(total_test_episodes):\n",
    "    state =  env.reset()\n",
    "    donde = False\n",
    "    total_rewards = 0\n",
    "    print(\"****************************************************\")\n",
    "    print('EPISODE', episode)\n",
    "\n",
    "    for step in range(max_steps):\n",
    "        env.render()\n",
    "\n",
    "        # Take the action (index) that have the maximum expcted reward given current state\n",
    "        action = np.argmax(Q[state][:])\n",
    "        new_state, reward, done, info = env.step(action)\n",
    "        total_rewards += reward\n",
    "\n",
    "        if done:\n",
    "            rewards.append(total_rewards)\n",
    "            break\n",
    "\n",
    "        state = new_state\n",
    "\n",
    "env.close()\n",
    "print('Score over time: ' + str(sum(rewards)/total_test_episodes))\n"
   ]
  },
  {
   "cell_type": "code",
   "execution_count": null,
   "metadata": {},
   "outputs": [],
   "source": []
  }
 ]
}